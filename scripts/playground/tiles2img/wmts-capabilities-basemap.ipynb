{
 "cells": [
  {
   "cell_type": "code",
   "execution_count": 1,
   "metadata": {},
   "outputs": [],
   "source": [
    "import os\n",
    "import json\n",
    "from pathlib import Path\n",
    "\n",
    "while \".git\" not in os.listdir(os.getcwd()): prj_dir = os.chdir(Path(os.getcwd())/\"..\")\n",
    "\n",
    "from owslib.wmts import WebMapTileService"
   ]
  },
  {
   "cell_type": "code",
   "execution_count": 2,
   "metadata": {},
   "outputs": [
    {
     "name": "stdout",
     "output_type": "stream",
     "text": [
      "{'_root': <Element {http://www.opengis.net/ows/1.1}ServiceProvider at 0x7fd8ac2dd740>, 'name': 'City of Vienna', 'contact': <owslib.ows.ServiceContact object at 0x7fd8ac23d890>, 'url': 'https://www.wien.gv.at/viennagis'}\n",
      "{'geolandbasemap': <owslib.wmts.ContentMetadata object at 0x7fd896743150>, 'bmapoverlay': <owslib.wmts.ContentMetadata object at 0x7fd896741390>, 'bmapgrau': <owslib.wmts.ContentMetadata object at 0x7fd896741a90>, 'bmaphidpi': <owslib.wmts.ContentMetadata object at 0x7fd8b03fb410>, 'bmaporthofoto30cm': <owslib.wmts.ContentMetadata object at 0x7fd8967437d0>, 'bmapgelaende': <owslib.wmts.ContentMetadata object at 0x7fd896748bd0>, 'bmapoberflaeche': <owslib.wmts.ContentMetadata object at 0x7fd896748e90>}\n"
     ]
    }
   ],
   "source": [
    "# URL of the WMTS service\n",
    "url = 'https://mapsneu.wien.gv.at/basemapneu/1.0.0/WMTSCapabilities.xml'\n",
    "\n",
    "# Connect to the WMTS service\n",
    "wmts = WebMapTileService(url)\n",
    "\n",
    "print(vars(wmts.provider))\n",
    "print(wmts.contents)"
   ]
  },
  {
   "cell_type": "code",
   "execution_count": 3,
   "metadata": {},
   "outputs": [
    {
     "name": "stdout",
     "output_type": "stream",
     "text": [
      "- geolandbasemap\n",
      "{'parent': None, 'index': '1', 'id': 'geolandbasemap', 'name': 'geolandbasemap', 'title': 'Geoland Basemap', 'abstract': 'Basemap von Österreich in Farbe', 'boundingBox': [], 'boundingBoxWGS84': (8.782379, 46.35877, 17.5, 49.037872), '_tilematrixsets': ['google3857'], 'tilematrixsetlinks': {'google3857': <TileMatrixSetLink: google3857, tilematrixlimits={...}>}, 'resourceURLs': [{'format': 'image/png', 'resourceType': 'tile', 'template': 'https://mapsneu.wien.gv.at/basemap/geolandbasemap/{Style}/{TileMatrixSet}/{TileMatrix}/{TileRow}/{TileCol}.png'}], 'styles': {'normal': {'isDefault': True}}, 'formats': ['image/png'], 'keywords': [], 'infoformats': [], 'layers': []}\n",
      "- bmapoverlay\n",
      "{'parent': None, 'index': '2', 'id': 'bmapoverlay', 'name': 'bmapoverlay', 'title': 'Geoland Basemap Overlay', 'abstract': 'Basemap von Österreich nur Beschriftung als transparenter Layer', 'boundingBox': [], 'boundingBoxWGS84': (8.782379, 46.35877, 17.5, 49.037872), '_tilematrixsets': ['google3857'], 'tilematrixsetlinks': {'google3857': <TileMatrixSetLink: google3857, tilematrixlimits={...}>}, 'resourceURLs': [{'format': 'image/png', 'resourceType': 'tile', 'template': 'https://mapsneu.wien.gv.at/basemap/bmapoverlay/{Style}/{TileMatrixSet}/{TileMatrix}/{TileRow}/{TileCol}.png'}], 'styles': {'normal': {'isDefault': True}}, 'formats': ['image/png'], 'keywords': [], 'infoformats': [], 'layers': []}\n",
      "- bmapgrau\n",
      "{'parent': None, 'index': '3', 'id': 'bmapgrau', 'name': 'bmapgrau', 'title': 'Geoland Basemap Grau', 'abstract': 'Basemap von Österreich in Grau', 'boundingBox': [], 'boundingBoxWGS84': (8.782379, 46.35877, 17.5, 49.037872), '_tilematrixsets': ['google3857'], 'tilematrixsetlinks': {'google3857': <TileMatrixSetLink: google3857, tilematrixlimits={...}>}, 'resourceURLs': [{'format': 'image/png', 'resourceType': 'tile', 'template': 'https://mapsneu.wien.gv.at/basemap/bmapgrau/{Style}/{TileMatrixSet}/{TileMatrix}/{TileRow}/{TileCol}.png'}], 'styles': {'normal': {'isDefault': True}}, 'formats': ['image/png'], 'keywords': [], 'infoformats': [], 'layers': []}\n",
      "- bmaphidpi\n",
      "{'parent': None, 'index': '4', 'id': 'bmaphidpi', 'name': 'bmaphidpi', 'title': 'Basemap High DPI', 'abstract': 'Basemap mit 512x512px Kacheln für Unterstützung von User Endgeräten mit high dpi Displays (iPad retina, smartphones mit HD Auflösung)', 'boundingBox': [], 'boundingBoxWGS84': (8.782379, 46.35877, 17.5, 49.037872), '_tilematrixsets': ['google3857'], 'tilematrixsetlinks': {'google3857': <TileMatrixSetLink: google3857, tilematrixlimits={...}>}, 'resourceURLs': [{'format': 'image/jpeg', 'resourceType': 'tile', 'template': 'https://mapsneu.wien.gv.at/basemap/bmaphidpi/{Style}/{TileMatrixSet}/{TileMatrix}/{TileRow}/{TileCol}.jpeg'}], 'styles': {'normal': {'isDefault': True}}, 'formats': ['image/jpeg'], 'keywords': [], 'infoformats': [], 'layers': []}\n",
      "- bmaporthofoto30cm\n",
      "{'parent': None, 'index': '5', 'id': 'bmaporthofoto30cm', 'name': 'bmaporthofoto30cm', 'title': 'Geoland Basemap Orthofoto', 'abstract': 'Basemap als farbiges Orthofoto', 'boundingBox': [], 'boundingBoxWGS84': (8.782379, 46.35877, 17.5, 49.037872), '_tilematrixsets': ['google3857'], 'tilematrixsetlinks': {'google3857': <TileMatrixSetLink: google3857, tilematrixlimits={...}>}, 'resourceURLs': [{'format': 'image/jpeg', 'resourceType': 'tile', 'template': 'https://mapsneu.wien.gv.at/basemap/bmaporthofoto30cm/{Style}/{TileMatrixSet}/{TileMatrix}/{TileRow}/{TileCol}.jpeg'}], 'styles': {'normal': {'isDefault': True}}, 'formats': ['image/jpeg'], 'keywords': [], 'infoformats': [], 'layers': []}\n",
      "- bmapgelaende\n",
      "{'parent': None, 'index': '6', 'id': 'bmapgelaende', 'name': 'bmapgelaende', 'title': 'Geoland Basemap Gelände', 'abstract': 'Basemap Geländedarstellung von Österreich in Grau', 'boundingBox': [], 'boundingBoxWGS84': (8.782379, 46.35877, 17.5, 49.037872), '_tilematrixsets': ['google3857_0-17'], 'tilematrixsetlinks': {'google3857_0-17': <TileMatrixSetLink: google3857_0-17, tilematrixlimits={...}>}, 'resourceURLs': [{'format': 'image/jpeg', 'resourceType': 'tile', 'template': 'https://mapsneu.wien.gv.at/basemap/bmapgelaende/{Style}/google3857/{TileMatrix}/{TileRow}/{TileCol}.jpeg'}], 'styles': {'grau': {'isDefault': True}}, 'formats': ['image/jpeg'], 'keywords': [], 'infoformats': [], 'layers': []}\n",
      "- bmapoberflaeche\n",
      "{'parent': None, 'index': '7', 'id': 'bmapoberflaeche', 'name': 'bmapoberflaeche', 'title': 'Geoland Basemap Oberfläche', 'abstract': 'Basemap Oberflächendarstellung von Österreich in Grau', 'boundingBox': [], 'boundingBoxWGS84': (8.782379, 46.35877, 17.5, 49.037872), '_tilematrixsets': ['google3857_0-17'], 'tilematrixsetlinks': {'google3857_0-17': <TileMatrixSetLink: google3857_0-17, tilematrixlimits={...}>}, 'resourceURLs': [{'format': 'image/jpeg', 'resourceType': 'tile', 'template': 'https://mapsneu.wien.gv.at/basemap/bmapoberflaeche/{Style}/google3857/{TileMatrix}/{TileRow}/{TileCol}.jpeg'}], 'styles': {'grau': {'isDefault': True}}, 'formats': ['image/jpeg'], 'keywords': [], 'infoformats': [], 'layers': []}\n"
     ]
    }
   ],
   "source": [
    "for n, l in wmts.contents.items():\n",
    "    print(f'- {n}')\n",
    "    print(vars(l))"
   ]
  },
  {
   "cell_type": "code",
   "execution_count": 5,
   "metadata": {},
   "outputs": [
    {
     "data": {
      "text/plain": [
       "{'geolandbasemap': {'name': 'geolandbasemap',\n",
       "  'style': 'normal',\n",
       "  'url': 'https://mapsneu.wien.gv.at/basemap/geolandbasemap/normal/google3857/{z}/{y}/{x}.png'},\n",
       " 'bmapoverlay': {'name': 'bmapoverlay',\n",
       "  'style': 'normal',\n",
       "  'url': 'https://mapsneu.wien.gv.at/basemap/bmapoverlay/normal/google3857/{z}/{y}/{x}.png'},\n",
       " 'bmapgrau': {'name': 'bmapgrau',\n",
       "  'style': 'normal',\n",
       "  'url': 'https://mapsneu.wien.gv.at/basemap/bmapgrau/normal/google3857/{z}/{y}/{x}.png'},\n",
       " 'bmaphidpi': {'name': 'bmaphidpi',\n",
       "  'style': 'normal',\n",
       "  'url': 'https://mapsneu.wien.gv.at/basemap/bmaphidpi/normal/google3857/{z}/{y}/{x}.jpeg'},\n",
       " 'bmaporthofoto30cm': {'name': 'bmaporthofoto30cm',\n",
       "  'style': 'normal',\n",
       "  'url': 'https://mapsneu.wien.gv.at/basemap/bmaporthofoto30cm/normal/google3857/{z}/{y}/{x}.jpeg'},\n",
       " 'bmapgelaende': {'name': 'bmapgelaende',\n",
       "  'style': 'grau',\n",
       "  'url': 'https://mapsneu.wien.gv.at/basemap/bmapgelaende/grau/google3857/{z}/{y}/{x}.jpeg'},\n",
       " 'bmapoberflaeche': {'name': 'bmapoberflaeche',\n",
       "  'style': 'grau',\n",
       "  'url': 'https://mapsneu.wien.gv.at/basemap/bmapoberflaeche/grau/google3857/{z}/{y}/{x}.jpeg'}}"
      ]
     },
     "execution_count": 5,
     "metadata": {},
     "output_type": "execute_result"
    }
   ],
   "source": [
    "layers = {k: {\n",
    "    'name': l.name,\n",
    "    'style': list(l.styles.keys())[0],\n",
    "    'url': l.resourceURLs[0]['template']\n",
    "} for k, l in wmts.contents.items()}\n",
    "\n",
    "for l in layers.values():\n",
    "    replace = {\n",
    "        '{TileRow}': '{y}',\n",
    "        '{TileCol}': '{x}',\n",
    "        '{TileMatrix}': '{z}',\n",
    "        '{Style}': l['style'],\n",
    "        '{TileMatrixSet}': 'google3857',\n",
    "    }\n",
    "    \n",
    "    for s, r in replace.items():\n",
    "        l['url'] = l['url'].replace(s, r)\n",
    "\n",
    "layers"
   ]
  },
  {
   "cell_type": "code",
   "execution_count": 11,
   "metadata": {},
   "outputs": [],
   "source": [
    "with open('web/assets/data/ortho-cap-basemap.json', 'w') as f:\n",
    "    json.dump(layers, f)"
   ]
  }
 ],
 "metadata": {
  "kernelspec": {
   "display_name": "venv",
   "language": "python",
   "name": "python3"
  },
  "language_info": {
   "codemirror_mode": {
    "name": "ipython",
    "version": 3
   },
   "file_extension": ".py",
   "mimetype": "text/x-python",
   "name": "python",
   "nbconvert_exporter": "python",
   "pygments_lexer": "ipython3",
   "version": "3.11.6"
  }
 },
 "nbformat": 4,
 "nbformat_minor": 2
}
