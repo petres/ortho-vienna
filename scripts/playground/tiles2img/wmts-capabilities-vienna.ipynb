{
 "cells": [
  {
   "cell_type": "code",
   "execution_count": 1,
   "metadata": {},
   "outputs": [],
   "source": [
    "import os\n",
    "import json\n",
    "from pathlib import Path\n",
    "\n",
    "while \".git\" not in os.listdir(os.getcwd()): prj_dir = os.chdir(Path(os.getcwd())/\"..\")\n",
    "\n",
    "from owslib.wmts import WebMapTileService"
   ]
  },
  {
   "cell_type": "code",
   "execution_count": 14,
   "metadata": {},
   "outputs": [
    {
     "name": "stdout",
     "output_type": "stream",
     "text": [
      "{'_root': <Element {http://www.opengis.net/ows/1.1}ServiceProvider at 0x7fbc37452980>, 'name': 'Magistrat Wien', 'contact': <owslib.ows.ServiceContact object at 0x7fbc37450050>, 'url': 'http://www.wien.gv.at'}\n",
      "{'fmzk3dviewer': <owslib.wmts.ContentMetadata object at 0x7fbc37451f10>, 'lb': <owslib.wmts.ContentMetadata object at 0x7fbc3743e6d0>, 'lb2021': <owslib.wmts.ContentMetadata object at 0x7fbc3743e290>, 'lb2020': <owslib.wmts.ContentMetadata object at 0x7fbc3743f290>, 'lb2019': <owslib.wmts.ContentMetadata object at 0x7fbc3743f410>, 'lb2018': <owslib.wmts.ContentMetadata object at 0x7fbc3743dcd0>, 'lb2017': <owslib.wmts.ContentMetadata object at 0x7fbc3743d910>, 'lb2016': <owslib.wmts.ContentMetadata object at 0x7fbc3743cd50>, 'lb2015': <owslib.wmts.ContentMetadata object at 0x7fbc3743d3d0>, 'lb2014': <owslib.wmts.ContentMetadata object at 0x7fbc3743d790>, 'lb1992': <owslib.wmts.ContentMetadata object at 0x7fbc3743ce90>, 'lb1986': <owslib.wmts.ContentMetadata object at 0x7fbc3743c150>, 'lb1981': <owslib.wmts.ContentMetadata object at 0x7fbc3743f750>, 'lb1976': <owslib.wmts.ContentMetadata object at 0x7fbc3746f510>, 'lb1971mU': <owslib.wmts.ContentMetadata object at 0x7fbc3746f910>, 'lb1971': <owslib.wmts.ContentMetadata object at 0x7fbc3746ff10>, 'lb1961': <owslib.wmts.ContentMetadata object at 0x7fbc3746ee50>, 'lb1956': <owslib.wmts.ContentMetadata object at 0x7fbc37480410>, 'lb1938': <owslib.wmts.ContentMetadata object at 0x7fbc37480990>, 'fmzk': <owslib.wmts.ContentMetadata object at 0x7fbc37481050>, 'flwbplmzk': <owslib.wmts.ContentMetadata object at 0x7fbc374818d0>, 'beschriftung': <owslib.wmts.ContentMetadata object at 0x7fbc37481710>}\n",
      "{'parent': None, 'index': '2', 'id': 'lb', 'name': 'lb', 'title': 'Orthofoto 2022', 'abstract': None, 'boundingBox': [], 'boundingBoxWGS84': (16.17, 48.1, 16.58, 48.33), '_tilematrixsets': ['google3857'], 'tilematrixsetlinks': {'google3857': <TileMatrixSetLink: google3857, tilematrixlimits={...}>}, 'resourceURLs': [{'format': 'image/jpeg', 'resourceType': 'tile', 'template': 'https://mapsneu.wien.gv.at/wmts/lb/{Style}/{TileMatrixSet}/{TileMatrix}/{TileRow}/{TileCol}.jpeg'}], 'styles': {'farbe': {'isDefault': True}}, 'formats': ['image/jpeg'], 'keywords': [], 'infoformats': [], 'layers': []}\n",
      "{}\n"
     ]
    }
   ],
   "source": [
    "# URL of the WMTS service\n",
    "url = 'https://mapsneu.wien.gv.at/wmtsneu/1.0.0/WMTSCapabilities.xml'\n",
    "\n",
    "# Connect to the WMTS service\n",
    "wmts = WebMapTileService(url)\n",
    "\n",
    "print(vars(wmts.provider))\n",
    "print(wmts.contents)\n",
    "print(vars(wmts.contents[\"lb\"]))\n",
    "print(wmts.contents[\"lb\"].tilematrixsetlinks[\"google3857\"].tilematrixlimits)"
   ]
  },
  {
   "cell_type": "code",
   "execution_count": 3,
   "metadata": {},
   "outputs": [],
   "source": [
    "# for n, l in wmts.contents.items():\n",
    "#     print(f'- {n}')\n",
    "#     print(vars(l))"
   ]
  },
  {
   "cell_type": "code",
   "execution_count": 4,
   "metadata": {},
   "outputs": [
    {
     "data": {
      "text/plain": [
       "{'fmzk3dviewer': {'name': 'fmzk3dviewer',\n",
       "  'style': 'pastell',\n",
       "  'url': 'https://mapsneu.wien.gv.at/wmts/fmzk3dviewer/pastell/google3857/{z}/{y}/{x}.png'},\n",
       " 'lb': {'name': 'lb',\n",
       "  'style': 'farbe',\n",
       "  'url': 'https://mapsneu.wien.gv.at/wmts/lb/farbe/google3857/{z}/{y}/{x}.jpeg'},\n",
       " 'lb2021': {'name': 'lb2021',\n",
       "  'style': 'farbe',\n",
       "  'url': 'https://mapsneu.wien.gv.at/wmts/lb2021/farbe/google3857/{z}/{y}/{x}.jpeg'},\n",
       " 'lb2020': {'name': 'lb2020',\n",
       "  'style': 'farbe',\n",
       "  'url': 'https://mapsneu.wien.gv.at/wmts/lb2020/farbe/google3857/{z}/{y}/{x}.jpeg'},\n",
       " 'lb2019': {'name': 'lb2019',\n",
       "  'style': 'farbe',\n",
       "  'url': 'https://mapsneu.wien.gv.at/wmts/lb2019/farbe/google3857/{z}/{y}/{x}.jpeg'},\n",
       " 'lb2018': {'name': 'lb2018',\n",
       "  'style': 'farbe',\n",
       "  'url': 'https://mapsneu.wien.gv.at/wmts/lb2018/farbe/google3857/{z}/{y}/{x}.jpeg'},\n",
       " 'lb2017': {'name': 'lb2017',\n",
       "  'style': 'farbe',\n",
       "  'url': 'https://mapsneu.wien.gv.at/wmts/lb2017/farbe/google3857/{z}/{y}/{x}.jpeg'},\n",
       " 'lb2016': {'name': 'lb2016',\n",
       "  'style': 'farbe',\n",
       "  'url': 'https://mapsneu.wien.gv.at/wmts/lb2016/farbe/google3857/{z}/{y}/{x}.jpeg'},\n",
       " 'lb2015': {'name': 'lb2015',\n",
       "  'style': 'farbe',\n",
       "  'url': 'https://mapsneu.wien.gv.at/wmts/lb2015/farbe/google3857/{z}/{y}/{x}.jpeg'},\n",
       " 'lb2014': {'name': 'lb2014',\n",
       "  'style': 'farbe',\n",
       "  'url': 'https://mapsneu.wien.gv.at/wmts/lb2014/farbe/google3857/{z}/{y}/{x}.jpeg'},\n",
       " 'lb1992': {'name': 'lb1992',\n",
       "  'style': 'grau',\n",
       "  'url': 'https://mapsneu.wien.gv.at/wmts/lb1992/grau/google3857/{z}/{y}/{x}.jpeg'},\n",
       " 'lb1986': {'name': 'lb1986',\n",
       "  'style': 'grau',\n",
       "  'url': 'https://mapsneu.wien.gv.at/wmts/lb1986/grau/google3857/{z}/{y}/{x}.jpeg'},\n",
       " 'lb1981': {'name': 'lb1981',\n",
       "  'style': 'grau',\n",
       "  'url': 'https://mapsneu.wien.gv.at/wmts/lb1981/grau/google3857/{z}/{y}/{x}.jpeg'},\n",
       " 'lb1976': {'name': 'lb1976',\n",
       "  'style': 'grau',\n",
       "  'url': 'https://mapsneu.wien.gv.at/wmts/lb1976/grau/google3857/{z}/{y}/{x}.jpeg'},\n",
       " 'lb1971mU': {'name': 'lb1971mU',\n",
       "  'style': 'grau',\n",
       "  'url': 'https://mapsneu.wien.gv.at/wmts/lb1971mU/grau/google3857/{z}/{y}/{x}.jpeg'},\n",
       " 'lb1971': {'name': 'lb1971',\n",
       "  'style': 'grau',\n",
       "  'url': 'https://mapsneu.wien.gv.at/wmts/lb1971/grau/google3857/{z}/{y}/{x}.jpeg'},\n",
       " 'lb1961': {'name': 'lb1961',\n",
       "  'style': 'grau',\n",
       "  'url': 'https://mapsneu.wien.gv.at/wmts/lb1961/grau/google3857/{z}/{y}/{x}.jpeg'},\n",
       " 'lb1956': {'name': 'lb1956',\n",
       "  'style': 'grau',\n",
       "  'url': 'https://mapsneu.wien.gv.at/wmts/lb1956/grau/google3857/{z}/{y}/{x}.jpeg'},\n",
       " 'lb1938': {'name': 'lb1938',\n",
       "  'style': 'grau',\n",
       "  'url': 'https://mapsneu.wien.gv.at/wmts/lb1938/grau/google3857/{z}/{y}/{x}.jpeg'},\n",
       " 'fmzk': {'name': 'fmzk',\n",
       "  'style': 'pastell',\n",
       "  'url': 'https://mapsneu.wien.gv.at/wmts/fmzk/pastell/google3857/{z}/{y}/{x}.jpeg'},\n",
       " 'flwbplmzk': {'name': 'flwbplmzk',\n",
       "  'style': 'rot',\n",
       "  'url': 'https://mapsneu.wien.gv.at/wmts/flwbplmzk/rot/google3857/{z}/{y}/{x}.jpeg'},\n",
       " 'beschriftung': {'name': 'beschriftung',\n",
       "  'style': 'normal',\n",
       "  'url': 'https://mapsneu.wien.gv.at/wmts/beschriftung/normal/google3857/{z}/{y}/{x}.png'}}"
      ]
     },
     "execution_count": 4,
     "metadata": {},
     "output_type": "execute_result"
    }
   ],
   "source": [
    "layers = {k: {\n",
    "    'name': l.name,\n",
    "    'style': list(l.styles.keys())[0],\n",
    "    'url': l.resourceURLs[0]['template']\n",
    "} for k, l in wmts.contents.items()}\n",
    "\n",
    "for l in layers.values():\n",
    "    replace = {\n",
    "        '{TileRow}': '{y}',\n",
    "        '{TileCol}': '{x}',\n",
    "        '{TileMatrix}': '{z}',\n",
    "        '{Style}': l['style'],\n",
    "        '{TileMatrixSet}': 'google3857',\n",
    "    }\n",
    "    \n",
    "    for s, r in replace.items():\n",
    "        l['url'] = l['url'].replace(s, r)\n",
    "\n",
    "layers"
   ]
  },
  {
   "cell_type": "code",
   "execution_count": 5,
   "metadata": {},
   "outputs": [],
   "source": [
    "with open('web/assets/data/ortho-cap-vienna.json', 'w') as f:\n",
    "    json.dump(layers, f)"
   ]
  }
 ],
 "metadata": {
  "kernelspec": {
   "display_name": "venv",
   "language": "python",
   "name": "python3"
  },
  "language_info": {
   "codemirror_mode": {
    "name": "ipython",
    "version": 3
   },
   "file_extension": ".py",
   "mimetype": "text/x-python",
   "name": "python",
   "nbconvert_exporter": "python",
   "pygments_lexer": "ipython3",
   "version": "3.11.6"
  }
 },
 "nbformat": 4,
 "nbformat_minor": 2
}
