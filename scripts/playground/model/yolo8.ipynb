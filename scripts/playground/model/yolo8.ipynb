{
 "cells": [
  {
   "cell_type": "code",
   "execution_count": 3,
   "metadata": {},
   "outputs": [],
   "source": [
    "import os\n",
    "from pathlib import Path\n",
    "\n",
    "from ultralytics import YOLO\n",
    "\n",
    "while \".git\" not in os.listdir(os.getcwd()): os.chdir(Path(os.getcwd())/\"..\")"
   ]
  },
  {
   "cell_type": "code",
   "execution_count": 4,
   "metadata": {},
   "outputs": [],
   "source": [
    "model = YOLO('./data/model/yolov8n.pt') "
   ]
  },
  {
   "cell_type": "code",
   "execution_count": null,
   "metadata": {},
   "outputs": [],
   "source": [
    "# Load a model\n",
    "model = YOLO('yolov8n.pt')  # load a pretrained model (recommended for training)\n",
    "# model = YOLO('yolov8n.yaml').load('yolov8n.pt')  # build from YAML and transfer weights\n",
    "\n",
    "# Train the model\n",
    "results = model.train(data='/home/preschen/prj/ortho-vienna/data/unified/data.yaml', epochs=30, imgsz=1280)"
   ]
  },
  {
   "cell_type": "code",
   "execution_count": 12,
   "metadata": {},
   "outputs": [
    {
     "name": "stdout",
     "output_type": "stream",
     "text": [
      "New https://pypi.org/project/ultralytics/8.0.227 available 😃 Update with 'pip install -U ultralytics'\n",
      "Ultralytics YOLOv8.0.226 🚀 Python-3.11.6 torch-2.1.1+cu121 CPU (Intel Xeon E5-2640 v3 2.60GHz)\n",
      "\u001b[34m\u001b[1mengine/trainer: \u001b[0mtask=detect, mode=train, model=/home/preschen/prj/ortho-vienna/runs/detect/train/weights/last.pt, data=/home/preschen/prj/ortho-vienna/data/unified/data.yaml, epochs=30, patience=50, batch=16, imgsz=1280, save=True, save_period=-1, cache=False, device=None, workers=8, project=None, name=train2, exist_ok=False, pretrained=True, optimizer=auto, verbose=True, seed=0, deterministic=True, single_cls=False, rect=False, cos_lr=False, close_mosaic=10, resume=False, amp=True, fraction=1.0, profile=False, freeze=None, overlap_mask=True, mask_ratio=4, dropout=0.0, val=True, split=val, save_json=False, save_hybrid=False, conf=None, iou=0.7, max_det=300, half=False, dnn=False, plots=True, source=None, vid_stride=1, stream_buffer=False, visualize=False, augment=False, agnostic_nms=False, classes=None, retina_masks=False, show=False, save_frames=False, save_txt=False, save_conf=False, save_crop=False, show_labels=True, show_conf=True, show_boxes=True, line_width=None, format=torchscript, keras=False, optimize=False, int8=False, dynamic=False, simplify=False, opset=None, workspace=4, nms=False, lr0=0.01, lrf=0.01, momentum=0.937, weight_decay=0.0005, warmup_epochs=3.0, warmup_momentum=0.8, warmup_bias_lr=0.1, box=7.5, cls=0.5, dfl=1.5, pose=12.0, kobj=1.0, label_smoothing=0.0, nbs=64, hsv_h=0.015, hsv_s=0.7, hsv_v=0.4, degrees=0.0, translate=0.1, scale=0.5, shear=0.0, perspective=0.0, flipud=0.0, fliplr=0.5, mosaic=1.0, mixup=0.0, copy_paste=0.0, cfg=None, tracker=botsort.yaml, save_dir=/home/preschen/prj/ortho-vienna/runs/detect/train2\n",
      "\n",
      "                   from  n    params  module                                       arguments                     \n",
      "  0                  -1  1       464  ultralytics.nn.modules.conv.Conv             [3, 16, 3, 2]                 \n",
      "  1                  -1  1      4672  ultralytics.nn.modules.conv.Conv             [16, 32, 3, 2]                \n",
      "  2                  -1  1      7360  ultralytics.nn.modules.block.C2f             [32, 32, 1, True]             \n",
      "  3                  -1  1     18560  ultralytics.nn.modules.conv.Conv             [32, 64, 3, 2]                \n",
      "  4                  -1  2     49664  ultralytics.nn.modules.block.C2f             [64, 64, 2, True]             \n",
      "  5                  -1  1     73984  ultralytics.nn.modules.conv.Conv             [64, 128, 3, 2]               \n",
      "  6                  -1  2    197632  ultralytics.nn.modules.block.C2f             [128, 128, 2, True]           \n",
      "  7                  -1  1    295424  ultralytics.nn.modules.conv.Conv             [128, 256, 3, 2]              \n",
      "  8                  -1  1    460288  ultralytics.nn.modules.block.C2f             [256, 256, 1, True]           \n",
      "  9                  -1  1    164608  ultralytics.nn.modules.block.SPPF            [256, 256, 5]                 \n",
      " 10                  -1  1         0  torch.nn.modules.upsampling.Upsample         [None, 2, 'nearest']          \n",
      " 11             [-1, 6]  1         0  ultralytics.nn.modules.conv.Concat           [1]                           \n",
      " 12                  -1  1    148224  ultralytics.nn.modules.block.C2f             [384, 128, 1]                 \n",
      " 13                  -1  1         0  torch.nn.modules.upsampling.Upsample         [None, 2, 'nearest']          \n",
      " 14             [-1, 4]  1         0  ultralytics.nn.modules.conv.Concat           [1]                           \n",
      " 15                  -1  1     37248  ultralytics.nn.modules.block.C2f             [192, 64, 1]                  \n",
      " 16                  -1  1     36992  ultralytics.nn.modules.conv.Conv             [64, 64, 3, 2]                \n",
      " 17            [-1, 12]  1         0  ultralytics.nn.modules.conv.Concat           [1]                           \n",
      " 18                  -1  1    123648  ultralytics.nn.modules.block.C2f             [192, 128, 1]                 \n",
      " 19                  -1  1    147712  ultralytics.nn.modules.conv.Conv             [128, 128, 3, 2]              \n",
      " 20             [-1, 9]  1         0  ultralytics.nn.modules.conv.Concat           [1]                           \n",
      " 21                  -1  1    493056  ultralytics.nn.modules.block.C2f             [384, 256, 1]                 \n",
      " 22        [15, 18, 21]  1    751702  ultralytics.nn.modules.head.Detect           [2, [64, 128, 256]]           \n",
      "Model summary: 225 layers, 3011238 parameters, 3011222 gradients, 8.2 GFLOPs\n",
      "\n",
      "Transferred 355/355 items from pretrained weights\n",
      "Freezing layer 'model.22.dfl.conv.weight'\n"
     ]
    },
    {
     "name": "stderr",
     "output_type": "stream",
     "text": [
      "\u001b[34m\u001b[1mtrain: \u001b[0mScanning /home/preschen/prj/ortho-vienna/data/unified/train.cache... 90 images, 0 backgrounds, 0 corrupt: 100%|██████████| 90/90 [00:00<?, ?it/s]\n",
      "\u001b[34m\u001b[1mval: \u001b[0mScanning /home/preschen/prj/ortho-vienna/data/unified/val.cache... 10 images, 0 backgrounds, 0 corrupt: 100%|██████████| 10/10 [00:00<?, ?it/s]\n"
     ]
    },
    {
     "name": "stdout",
     "output_type": "stream",
     "text": [
      "Plotting labels to /home/preschen/prj/ortho-vienna/runs/detect/train2/labels.jpg... \n",
      "\u001b[34m\u001b[1moptimizer:\u001b[0m 'optimizer=auto' found, ignoring 'lr0=0.01' and 'momentum=0.937' and determining best 'optimizer', 'lr0' and 'momentum' automatically... \n",
      "\u001b[34m\u001b[1moptimizer:\u001b[0m AdamW(lr=0.001667, momentum=0.9) with parameter groups 57 weight(decay=0.0), 64 weight(decay=0.0005), 63 bias(decay=0.0)\n",
      "Image sizes 1280 train, 1280 val\n",
      "Using 0 dataloader workers\n",
      "Logging results to \u001b[1m/home/preschen/prj/ortho-vienna/runs/detect/train2\u001b[0m\n",
      "Starting training for 30 epochs...\n",
      "\n",
      "      Epoch    GPU_mem   box_loss   cls_loss   dfl_loss  Instances       Size\n"
     ]
    },
    {
     "name": "stderr",
     "output_type": "stream",
     "text": [
      "       1/30         0G      1.437      1.093     0.9271       5747       1280:  33%|███▎      | 2/6 [00:47<01:34, 23.67s/it]"
     ]
    }
   ],
   "source": [
    "model = YOLO('/home/preschen/prj/ortho-vienna/runs/detect/train/weights/last.pt')\n",
    "model.train(data='/home/preschen/prj/ortho-vienna/data/unified/data.yaml', epochs=30, imgsz=1280)\n",
    "# model.train(resume=True)\n",
    "# print(model)"
   ]
  },
  {
   "cell_type": "code",
   "execution_count": 9,
   "metadata": {},
   "outputs": [
    {
     "name": "stdout",
     "output_type": "stream",
     "text": [
      "\n",
      "image 1/1 /home/preschen/prj/ortho-vienna/data/hahn.jpg: 768x1280 12 cars, 106.5ms\n",
      "Speed: 6.9ms preprocess, 106.5ms inference, 1.7ms postprocess per image at shape (1, 3, 768, 1280)\n",
      "Results saved to \u001b[1m/home/preschen/prj/ortho-vienna/runs/detect/predict5\u001b[0m\n",
      "[ultralytics.engine.results.Results object with attributes:\n",
      "\n",
      "boxes: ultralytics.engine.results.Boxes object\n",
      "keypoints: None\n",
      "masks: None\n",
      "names: {0: 'no-idea', 1: 'car'}\n",
      "orig_img: array([[[ 89,  92,  96],\n",
      "        [ 95,  96, 100],\n",
      "        [ 96,  98,  99],\n",
      "        ...,\n",
      "        [ 94,  76,  75],\n",
      "        [ 92,  77,  75],\n",
      "        [ 88,  75,  73]],\n",
      "\n",
      "       [[ 83,  79,  90],\n",
      "        [ 85,  84,  94],\n",
      "        [ 82,  83,  93],\n",
      "        ...,\n",
      "        [ 94,  79,  77],\n",
      "        [ 92,  79,  77],\n",
      "        [ 90,  78,  76]],\n",
      "\n",
      "       [[ 82,  74,  91],\n",
      "        [ 80,  76,  95],\n",
      "        [ 74,  75,  95],\n",
      "        ...,\n",
      "        [ 91,  78,  76],\n",
      "        [ 89,  77,  75],\n",
      "        [ 86,  77,  74]],\n",
      "\n",
      "       ...,\n",
      "\n",
      "       [[ 74,  64,  64],\n",
      "        [ 70,  62,  62],\n",
      "        [ 65,  60,  59],\n",
      "        ...,\n",
      "        [ 82,  77,  76],\n",
      "        [ 81,  76,  75],\n",
      "        [ 80,  75,  74]],\n",
      "\n",
      "       [[ 71,  64,  61],\n",
      "        [ 69,  62,  59],\n",
      "        [ 64,  59,  56],\n",
      "        ...,\n",
      "        [ 82,  77,  76],\n",
      "        [ 81,  76,  75],\n",
      "        [ 80,  75,  74]],\n",
      "\n",
      "       [[ 69,  64,  61],\n",
      "        [ 67,  62,  59],\n",
      "        [ 64,  59,  56],\n",
      "        ...,\n",
      "        [ 82,  77,  76],\n",
      "        [ 81,  76,  75],\n",
      "        [ 80,  75,  74]]], dtype=uint8)\n",
      "orig_shape: (800, 1360)\n",
      "path: '/home/preschen/prj/ortho-vienna/data/hahn.jpg'\n",
      "probs: None\n",
      "save_dir: '/home/preschen/prj/ortho-vienna/runs/detect/predict5'\n",
      "speed: {'preprocess': 6.946802139282227, 'inference': 106.45389556884766, 'postprocess': 1.6818046569824219}]\n"
     ]
    }
   ],
   "source": [
    "model = YOLO('/home/preschen/prj/ortho-vienna/runs/detect/train/weights/best.pt')\n",
    "\n",
    "# Define path to the image file\n",
    "source = '/home/preschen/prj/ortho-vienna/data/unified/test/00001.jpg'\n",
    "\n",
    "source = '/home/preschen/prj/ortho-vienna/data/hahn.jpg'\n",
    "\n",
    "# Run inference on the source\n",
    "results = model(source, save = True)  # list of Results objects\n",
    "print(results)"
   ]
  }
 ],
 "metadata": {
  "kernelspec": {
   "display_name": "venv",
   "language": "python",
   "name": "python3"
  },
  "language_info": {
   "codemirror_mode": {
    "name": "ipython",
    "version": 3
   },
   "file_extension": ".py",
   "mimetype": "text/x-python",
   "name": "python",
   "nbconvert_exporter": "python",
   "pygments_lexer": "ipython3",
   "version": "3.11.6"
  }
 },
 "nbformat": 4,
 "nbformat_minor": 2
}
