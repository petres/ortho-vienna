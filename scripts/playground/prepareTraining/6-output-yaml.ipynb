{
 "cells": [
  {
   "cell_type": "code",
   "execution_count": null,
   "metadata": {},
   "outputs": [],
   "source": [
    "import os\n",
    "from pathlib import Path\n",
    "\n",
    "while \".git\" not in os.listdir(os.getcwd()): prj_dir = os.chdir(Path(os.getcwd())/\"..\")\n",
    "os.getcwd()\n",
    "\n",
    "import json\n",
    "import yaml"
   ]
  },
  {
   "cell_type": "code",
   "execution_count": null,
   "metadata": {},
   "outputs": [],
   "source": [
    "with open('data/unified/all.json', 'r') as file:\n",
    "    data = json.load(file)"
   ]
  },
  {
   "cell_type": "code",
   "execution_count": null,
   "metadata": {},
   "outputs": [],
   "source": [
    "info = {\n",
    "    \"description\": \"Combined Areial Car Datasets\",\n",
    "    \"version\": \"0.1\",\n",
    "    \"year\": 2023,\n",
    "    \"contributor\": \"various\",\n",
    "    \"date_created\": \"2023/09/01\",\n",
    "}\n",
    "\n",
    "base = list(filter(lambda x: x['source'] == \"svd\", data))\n",
    "print(sources)\n",
    "# sources = [svd[0:10]]\n",
    "\n",
    "images = []\n",
    "annotations = {}\n",
    "\n",
    "t_file_id = 1\n",
    "t_annotation_id = 1\n",
    "for e in base:\n",
    "    images.append({\n",
    "        \"id\": t_file_id,\n",
    "        \"width\": e['width'],\n",
    "        \"height\": e['height'],\n",
    "        \"file_name\": e['file_name'],\n",
    "    })\n",
    "\n",
    "    annotations[t_file_id] = []\n",
    "    for a in e['annotations']:\n",
    "        annotations[t_file_id].append({\n",
    "            \"id\": t_annotation_id,\n",
    "            \"image_id\": t_file_id,\n",
    "            \"category_id\": 0,\n",
    "            \"segmentation\": a[\"segmentation\"],\n",
    "            \"area\": a[\"area\"],\n",
    "            \"bbox\": a[\"bbox\"],\n",
    "            \"iscrowd\": a[\"iscrowd\"],\n",
    "        })\n",
    "        t_annotation_id += 1\n",
    "    t_file_id += 1\n",
    "\n",
    "categories = [\n",
    "    {\n",
    "        \"id\": 1,\n",
    "        \"name\": \"car\"\n",
    "    },\n",
    "]\n",
    "\n",
    "data = {\n",
    "    \"info\": info,\n",
    "    \"images\": images,\n",
    "    \"annotations\": list(annotations.values()),\n",
    "    \"categories\": categories,\n",
    "}\n",
    "\n",
    "with open('data/unified/unified.yaml', 'w') as outfile:\n",
    "    yaml.dump(data, outfile, default_flow_style=False)"
   ]
  },
  {
   "cell_type": "code",
   "execution_count": null,
   "metadata": {},
   "outputs": [],
   "source": []
  }
 ],
 "metadata": {
  "kernelspec": {
   "display_name": "venv",
   "language": "python",
   "name": "python3"
  },
  "language_info": {
   "codemirror_mode": {
    "name": "ipython",
    "version": 3
   },
   "file_extension": ".py",
   "mimetype": "text/x-python",
   "name": "python",
   "nbconvert_exporter": "python",
   "pygments_lexer": "ipython3",
   "version": "3.11.6"
  }
 },
 "nbformat": 4,
 "nbformat_minor": 2
}
