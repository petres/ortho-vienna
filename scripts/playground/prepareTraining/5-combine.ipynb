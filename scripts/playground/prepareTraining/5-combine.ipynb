{
 "cells": [
  {
   "cell_type": "code",
   "execution_count": 3,
   "metadata": {},
   "outputs": [],
   "source": [
    "import os, json\n",
    "from pathlib import Path\n",
    "\n",
    "while \".git\" not in os.listdir(os.getcwd()): prj_dir = os.chdir(Path(os.getcwd())/\"..\")"
   ]
  },
  {
   "cell_type": "code",
   "execution_count": 6,
   "metadata": {},
   "outputs": [],
   "source": [
    "sources = [\"vedai\", \"svd\", \"dota\"]\n",
    "name = \"combined\" # svd-vedai-dota\n",
    "\n",
    "sources = [\"self\", \"svd\"]\n",
    "name = \"self-svd\""
   ]
  },
  {
   "cell_type": "code",
   "execution_count": 7,
   "metadata": {},
   "outputs": [],
   "source": [
    "data = []\n",
    "\n",
    "for s in sources:\n",
    "    with open(f'data/unified/sources/{s}.json', 'r') as f:\n",
    "        es = json.load(f)\n",
    "        [e.update({\"source\": s}) for e in es]\n",
    "        data.extend(es)\n",
    "\n",
    "\n",
    "with open(f'data/unified/{name}.json', 'w') as outfile:\n",
    "    json.dump(data, outfile, indent = 2)"
   ]
  }
 ],
 "metadata": {
  "kernelspec": {
   "display_name": "venv",
   "language": "python",
   "name": "python3"
  },
  "language_info": {
   "codemirror_mode": {
    "name": "ipython",
    "version": 3
   },
   "file_extension": ".py",
   "mimetype": "text/x-python",
   "name": "python",
   "nbconvert_exporter": "python",
   "pygments_lexer": "ipython3",
   "version": "3.11.6"
  }
 },
 "nbformat": 4,
 "nbformat_minor": 2
}
